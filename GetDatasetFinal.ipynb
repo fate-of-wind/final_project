{
 "cells": [
  {
   "cell_type": "code",
   "execution_count": 1,
   "id": "53c6ec25-90be-48a9-bae1-f22566d07386",
   "metadata": {},
   "outputs": [],
   "source": [
    "from nba_api.stats.endpoints import TeamGameLog\n",
    "import pandas as pd\n",
    "import time"
   ]
  },
  {
   "cell_type": "markdown",
   "id": "43aedc26-7341-4843-a254-29b21314bf6d",
   "metadata": {},
   "source": [
    "## Collect NBA Game in Chicago from 2017 to 2024 through nba_api"
   ]
  },
  {
   "cell_type": "code",
   "execution_count": 2,
   "id": "7c016cb2-c8a3-455f-ab98-b698c4abfdd1",
   "metadata": {},
   "outputs": [
    {
     "name": "stdout",
     "output_type": "stream",
     "text": [
      "get data for season: 2017-18\n",
      "get data for season: 2018-19\n",
      "get data for season: 2019-20\n",
      "get data for season: 2020-21\n",
      "get data for season: 2021-22\n",
      "get data for season: 2022-23\n",
      "get data for season: 2023-24\n",
      "get data for season: 2024-25\n",
      "   GAME_DATE      MATCHUP\n",
      "0 2017-10-21  CHI vs. SAS\n",
      "1 2017-10-26  CHI vs. ATL\n",
      "2 2017-10-28  CHI vs. OKC\n",
      "3 2017-11-04  CHI vs. NOP\n",
      "4 2017-11-10  CHI vs. IND\n"
     ]
    }
   ],
   "source": [
    "Chicago_Bulls_id = \"1610612741\"\n",
    "# collect game from 2017.10 to 2024.11, 2025 is season from 2024.9 to 2025.5\n",
    "seasons = [f\"{year}-{str(year+1)[-2:]}\" for year in range(2017, 2025)] # format: 2017-18\n",
    "chicago_game_data_list = []\n",
    "\n",
    "for season in seasons:\n",
    "    print(f\"get data for season: {season}\")\n",
    "    # get  game logs for the Bulls for each season use endpoint TeamGameLog\n",
    "    game_log = TeamGameLog(team_id=Chicago_Bulls_id, season=season)\n",
    "    game_df = game_log.get_data_frames()[0]\n",
    "    # In MATCHUP, CHI vs. DET represent CHI indicates that the Chicago Bulls are playing at home,\n",
    "    # while CHI @ BKN indicates it's playing away. I only want game data in Chicago \n",
    "    game_in_chicago_df = game_df[game_df['MATCHUP'].str.startswith('CHI vs.')]\n",
    "    chicago_game_data_list.append(game_in_chicago_df)\n",
    "\n",
    "# Combine all season data into a single DataFrame\n",
    "chicago_game_data_df = pd.concat(chicago_game_data_list, ignore_index=True)\n",
    "# Filter and clean the data\n",
    "chicago_game_data_df = chicago_game_data_df[['GAME_DATE', 'MATCHUP']].copy()\n",
    "\n",
    "# convert GAME_DATE string like APR 11, 2018 to datetime\n",
    "chicago_game_data_df['GAME_DATE'] = pd.to_datetime(chicago_game_data_df['GAME_DATE'], format='%b %d, %Y')\n",
    "\n",
    "# sort them by date\n",
    "chicago_game_data_df = chicago_game_data_df.sort_values(by='GAME_DATE').reset_index(drop=True)\n",
    "\n",
    "print(chicago_game_data_df.head())\n",
    "\n",
    "# save my NBA Game Date Dataset to csv\n",
    "chicago_game_data_df.to_csv(\"NBA_in_Chicago_17_24.csv\", index=False)"
   ]
  }
 ],
 "metadata": {
  "kernelspec": {
   "display_name": "Python 3 (ipykernel)",
   "language": "python",
   "name": "python3"
  },
  "language_info": {
   "codemirror_mode": {
    "name": "ipython",
    "version": 3
   },
   "file_extension": ".py",
   "mimetype": "text/x-python",
   "name": "python",
   "nbconvert_exporter": "python",
   "pygments_lexer": "ipython3",
   "version": "3.12.4"
  }
 },
 "nbformat": 4,
 "nbformat_minor": 5
}
